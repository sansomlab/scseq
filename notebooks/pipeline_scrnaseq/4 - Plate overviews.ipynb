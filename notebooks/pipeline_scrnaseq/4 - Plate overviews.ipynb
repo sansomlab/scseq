{
 "cells": [
  {
   "cell_type": "code",
   "execution_count": 1,
   "metadata": {
    "collapsed": false
   },
   "outputs": [
    {
     "data": {
      "text/plain": [
       "\n",
       "Attaching package: ‘fastcluster’\n",
       "\n",
       "The following object is masked from ‘package:stats’:\n",
       "\n",
       "    hclust\n",
       "\n"
      ]
     },
     "metadata": {},
     "output_type": "display_data"
    },
    {
     "data": {
      "text/plain": [
       "\n",
       "Attaching package: ‘reshape2’\n",
       "\n",
       "The following objects are masked from ‘package:reshape’:\n",
       "\n",
       "    colsplit, melt, recast\n",
       "\n"
      ]
     },
     "metadata": {},
     "output_type": "display_data"
    },
    {
     "data": {
      "text/plain": [
       "\n",
       "Attaching package: ‘gplots’\n",
       "\n",
       "The following object is masked from ‘package:stats’:\n",
       "\n",
       "    lowess\n",
       "\n"
      ]
     },
     "metadata": {},
     "output_type": "display_data"
    },
    {
     "data": {
      "text/plain": [
       "Loading required package: DBI\n"
      ]
     },
     "metadata": {},
     "output_type": "display_data"
    },
    {
     "name": "stdout",
     "output_type": "stream",
     "text": [
      "set database db: ../csvdb\n",
      "set database anndb: /gfs/mirror/annotations/mm10_ensembl78/csvdb\n",
      "set database ipydb: csvdb\n"
     ]
    }
   ],
   "source": [
    "%run notebook.config.ipy"
   ]
  },
  {
   "cell_type": "code",
   "execution_count": 2,
   "metadata": {
    "collapsed": false
   },
   "outputs": [
    {
     "data": {
      "text/html": [
       "<div>\n",
       "<table border=\"1\" class=\"dataframe\">\n",
       "  <thead>\n",
       "    <tr style=\"text-align: right;\">\n",
       "      <th></th>\n",
       "      <th>cell</th>\n",
       "      <th>fraction_spike</th>\n",
       "      <th>fraction_spliced</th>\n",
       "      <th>no_genes</th>\n",
       "      <th>pct_pf_reads</th>\n",
       "      <th>pct_pf_reads_aligned</th>\n",
       "      <th>pct_reads_aligned_in_pairs</th>\n",
       "      <th>percent_coding</th>\n",
       "      <th>percent_mrna</th>\n",
       "      <th>percent_reads_aligned</th>\n",
       "      <th>three_prime_bias</th>\n",
       "      <th>total_reads</th>\n",
       "      <th>uniq_mapping_reads_genome</th>\n",
       "      <th>uniq_mapping_reads_spike</th>\n",
       "    </tr>\n",
       "  </thead>\n",
       "  <tbody>\n",
       "    <tr>\n",
       "      <th>0</th>\n",
       "      <td>Scid_recons_p2_A1</td>\n",
       "      <td>0.133414</td>\n",
       "      <td>0.299559</td>\n",
       "      <td>4939</td>\n",
       "      <td>1</td>\n",
       "      <td>0.733578</td>\n",
       "      <td>0</td>\n",
       "      <td>0.411572</td>\n",
       "      <td>0.693869</td>\n",
       "      <td>0.733578</td>\n",
       "      <td>0.92</td>\n",
       "      <td>634373</td>\n",
       "      <td>59242</td>\n",
       "      <td>384804</td>\n",
       "    </tr>\n",
       "    <tr>\n",
       "      <th>1</th>\n",
       "      <td>Scid_recons_p2_A10</td>\n",
       "      <td>0.772061</td>\n",
       "      <td>0.063011</td>\n",
       "      <td>1153</td>\n",
       "      <td>1</td>\n",
       "      <td>0.679931</td>\n",
       "      <td>0</td>\n",
       "      <td>0.064654</td>\n",
       "      <td>0.124000</td>\n",
       "      <td>0.679931</td>\n",
       "      <td>1.00</td>\n",
       "      <td>2713587</td>\n",
       "      <td>1351190</td>\n",
       "      <td>398918</td>\n",
       "    </tr>\n",
       "    <tr>\n",
       "      <th>2</th>\n",
       "      <td>Scid_recons_p2_A11</td>\n",
       "      <td>0.399202</td>\n",
       "      <td>0.110180</td>\n",
       "      <td>3649</td>\n",
       "      <td>1</td>\n",
       "      <td>0.632537</td>\n",
       "      <td>0</td>\n",
       "      <td>0.126357</td>\n",
       "      <td>0.402014</td>\n",
       "      <td>0.632537</td>\n",
       "      <td>1.76</td>\n",
       "      <td>3042591</td>\n",
       "      <td>738670</td>\n",
       "      <td>1111696</td>\n",
       "    </tr>\n",
       "    <tr>\n",
       "      <th>3</th>\n",
       "      <td>Scid_recons_p2_A12</td>\n",
       "      <td>0.152076</td>\n",
       "      <td>0.255641</td>\n",
       "      <td>5543</td>\n",
       "      <td>1</td>\n",
       "      <td>0.699209</td>\n",
       "      <td>0</td>\n",
       "      <td>0.328629</td>\n",
       "      <td>0.642612</td>\n",
       "      <td>0.699209</td>\n",
       "      <td>1.04</td>\n",
       "      <td>3447660</td>\n",
       "      <td>344852</td>\n",
       "      <td>1922781</td>\n",
       "    </tr>\n",
       "    <tr>\n",
       "      <th>4</th>\n",
       "      <td>Scid_recons_p2_A2</td>\n",
       "      <td>0.155280</td>\n",
       "      <td>0.296962</td>\n",
       "      <td>5168</td>\n",
       "      <td>1</td>\n",
       "      <td>0.734051</td>\n",
       "      <td>0</td>\n",
       "      <td>0.389387</td>\n",
       "      <td>0.674383</td>\n",
       "      <td>0.734051</td>\n",
       "      <td>0.92</td>\n",
       "      <td>1379193</td>\n",
       "      <td>144816</td>\n",
       "      <td>787794</td>\n",
       "    </tr>\n",
       "  </tbody>\n",
       "</table>\n",
       "</div>"
      ],
      "text/plain": [
       "                 cell  fraction_spike  fraction_spliced  no_genes  \\\n",
       "0   Scid_recons_p2_A1        0.133414          0.299559      4939   \n",
       "1  Scid_recons_p2_A10        0.772061          0.063011      1153   \n",
       "2  Scid_recons_p2_A11        0.399202          0.110180      3649   \n",
       "3  Scid_recons_p2_A12        0.152076          0.255641      5543   \n",
       "4   Scid_recons_p2_A2        0.155280          0.296962      5168   \n",
       "\n",
       "   pct_pf_reads  pct_pf_reads_aligned  pct_reads_aligned_in_pairs  \\\n",
       "0             1              0.733578                           0   \n",
       "1             1              0.679931                           0   \n",
       "2             1              0.632537                           0   \n",
       "3             1              0.699209                           0   \n",
       "4             1              0.734051                           0   \n",
       "\n",
       "   percent_coding  percent_mrna  percent_reads_aligned  three_prime_bias  \\\n",
       "0        0.411572      0.693869               0.733578              0.92   \n",
       "1        0.064654      0.124000               0.679931              1.00   \n",
       "2        0.126357      0.402014               0.632537              1.76   \n",
       "3        0.328629      0.642612               0.699209              1.04   \n",
       "4        0.389387      0.674383               0.734051              0.92   \n",
       "\n",
       "   total_reads  uniq_mapping_reads_genome  uniq_mapping_reads_spike  \n",
       "0       634373                      59242                    384804  \n",
       "1      2713587                    1351190                    398918  \n",
       "2      3042591                     738670                   1111696  \n",
       "3      3447660                     344852                   1922781  \n",
       "4      1379193                     144816                    787794  "
      ]
     },
     "execution_count": 2,
     "metadata": {},
     "output_type": "execute_result"
    }
   ],
   "source": [
    "statement = '''select * from qc_summary'''\n",
    "\n",
    "qc_summary = DB.fetch_DataFrame(statement,db)\n",
    "\n",
    "qc_summary.head()"
   ]
  },
  {
   "cell_type": "code",
   "execution_count": 3,
   "metadata": {
    "collapsed": false
   },
   "outputs": [
    {
     "data": {
      "text/html": [
       "<div>\n",
       "<table border=\"1\" class=\"dataframe\">\n",
       "  <thead>\n",
       "    <tr style=\"text-align: right;\">\n",
       "      <th></th>\n",
       "      <th>cell</th>\n",
       "      <th>fraction_spike</th>\n",
       "      <th>no_genes</th>\n",
       "    </tr>\n",
       "  </thead>\n",
       "  <tbody>\n",
       "    <tr>\n",
       "      <th>0</th>\n",
       "      <td>Scid_recons_p2_A1</td>\n",
       "      <td>0.133414</td>\n",
       "      <td>4939</td>\n",
       "    </tr>\n",
       "    <tr>\n",
       "      <th>1</th>\n",
       "      <td>Scid_recons_p2_A10</td>\n",
       "      <td>0.772061</td>\n",
       "      <td>1153</td>\n",
       "    </tr>\n",
       "    <tr>\n",
       "      <th>2</th>\n",
       "      <td>Scid_recons_p2_A11</td>\n",
       "      <td>0.399202</td>\n",
       "      <td>3649</td>\n",
       "    </tr>\n",
       "    <tr>\n",
       "      <th>3</th>\n",
       "      <td>Scid_recons_p2_A12</td>\n",
       "      <td>0.152076</td>\n",
       "      <td>5543</td>\n",
       "    </tr>\n",
       "    <tr>\n",
       "      <th>4</th>\n",
       "      <td>Scid_recons_p2_A2</td>\n",
       "      <td>0.155280</td>\n",
       "      <td>5168</td>\n",
       "    </tr>\n",
       "  </tbody>\n",
       "</table>\n",
       "</div>"
      ],
      "text/plain": [
       "                 cell  fraction_spike  no_genes\n",
       "0   Scid_recons_p2_A1        0.133414      4939\n",
       "1  Scid_recons_p2_A10        0.772061      1153\n",
       "2  Scid_recons_p2_A11        0.399202      3649\n",
       "3  Scid_recons_p2_A12        0.152076      5543\n",
       "4   Scid_recons_p2_A2        0.155280      5168"
      ]
     },
     "execution_count": 3,
     "metadata": {},
     "output_type": "execute_result"
    }
   ],
   "source": [
    "df = qc_summary.loc[:,['cell','fraction_spike','no_genes']]\n",
    "df.head()"
   ]
  },
  {
   "cell_type": "code",
   "execution_count": 4,
   "metadata": {
    "collapsed": false
   },
   "outputs": [
    {
     "data": {
      "text/plain": [
       "'data.frame':\t96 obs. of  7 variables:\n",
       " $ cell          : Factor w/ 96 levels \"Scid_recons_p2_A1\",..: 1 2 3 4 5 6 7 8 9 10 ...\n",
       " $ fraction_spike: num [1:96(1d)] 0.133 0.772 0.399 0.152 0.155 ...\n",
       " $ no_genes      : int [1:96(1d)] 4939 1153 3649 5543 5168 7671 4390 4661 4410 4413 ...\n",
       " $ plate         : chr  \"p2\" \"p2\" \"p2\" \"p2\" ...\n",
       " $ well          : chr  \"A1\" \"A10\" \"A11\" \"A12\" ...\n",
       " $ col           : chr  \"A\" \"A\" \"A\" \"A\" ...\n",
       " $ row           : chr  \"1\" \"10\" \"11\" \"12\" ...\n",
       "NULL\n"
      ]
     },
     "metadata": {},
     "output_type": "display_data"
    }
   ],
   "source": [
    "%%R -i df\n",
    "df$plate = sapply(strsplit(as.character(df$cell), \"_\"), function(x){return(x[3])})\n",
    "df$well = sapply(strsplit(as.character(df$cell), \"_\"), function(x){return(x[4])})\n",
    "df$col = substring(df$well,1,1)\n",
    "df$row = substring(df$well, 2)\n",
    "print(str(df))"
   ]
  },
  {
   "cell_type": "code",
   "execution_count": 9,
   "metadata": {
    "collapsed": false,
    "scrolled": false
   },
   "outputs": [
    {
     "data": {
      "text/plain": [
       "Using cell, plate, well, col, row as id variables\n",
       "                cell plate well col row       variable     value\n",
       "1  Scid_recons_p2_A1    p2   A1   A   1 fraction_spike 0.1334140\n",
       "2 Scid_recons_p2_A10    p2  A10   A  10 fraction_spike 0.7720610\n",
       "3 Scid_recons_p2_A11    p2  A11   A  11 fraction_spike 0.3992020\n",
       "4 Scid_recons_p2_A12    p2  A12   A  12 fraction_spike 0.1520760\n",
       "5  Scid_recons_p2_A2    p2   A2   A   2 fraction_spike 0.1552800\n",
       "6  Scid_recons_p2_A3    p2   A3   A   3 fraction_spike 0.0576068\n",
       "Saving 9.72 x 8.33 in image\n"
      ]
     },
     "metadata": {},
     "output_type": "display_data"
    },
    {
     "data": {
      "image/png": "[encoded data removed]"
     },
     "metadata": {},
     "output_type": "display_data"
    }
   ],
   "source": [
    "%%R -w 700 -h 600\n",
    "melted = melt(df)\n",
    "print(head(melted))\n",
    "melted = melted[order(as.numeric(melted$row)),]\n",
    "melted$row = factor(melted$row, levels=(melted$row))\n",
    "melted$col = factor(melted$col, levels=rev(melted$col))\n",
    "\n",
    "\n",
    "for (p in unique(df$plate)){\n",
    "gp <- ggplot(melted) + geom_tile(data= melted[melted$variable == \"no_genes\",], aes(x=row, y=col, fill = value))\n",
    "gp <- gp + scale_fill_gradient(low=\"white\", high = \"red\", na.value=\"grey\", name=\"Number of genes detected\") \n",
    "gp <- gp + geom_point(data=melted[melted$variable == \"fraction_spike\",],aes(x=row, y=col, size=value))\n",
    "gp <- gp + labs(size = 'Fraction spike-ins')\n",
    "gp <- gp + ggtitle(paste(\"Number of genes detected & fraction spike-ins\\n for each cell on plate \", p, sep=\"\"))\n",
    "gp <- gp + xlab(\"\")+ ylab(\"\")\n",
    "print(gp)\n",
    "ggsave(plot = gp, filename=paste(\"number_genes_fraction_spike_plate_\", p,\".pdf\", sep=\"\"), device=cairo_pdf)\n",
    "}"
   ]
  },
  {
   "cell_type": "code",
   "execution_count": null,
   "metadata": {
    "collapsed": true
   },
   "outputs": [],
   "source": []
  }
 ],
 "metadata": {
  "kernelspec": {
   "display_name": "Python 2",
   "language": "python",
   "name": "python2"
  },
  "language_info": {
   "codemirror_mode": {
    "name": "ipython",
    "version": 2
   },
   "file_extension": ".py",
   "mimetype": "text/x-python",
   "name": "python",
   "nbconvert_exporter": "python",
   "pygments_lexer": "ipython2",
   "version": "2.7.9"
  }
 },
 "nbformat": 4,
 "nbformat_minor": 0
}
